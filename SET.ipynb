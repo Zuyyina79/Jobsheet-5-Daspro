{
  "nbformat": 4,
  "nbformat_minor": 0,
  "metadata": {
    "colab": {
      "name": "SET.ipynb",
      "provenance": [],
      "authorship_tag": "ABX9TyPCOm8DWCmivdDa6TWm+7CD",
      "include_colab_link": true
    },
    "kernelspec": {
      "name": "python3",
      "display_name": "Python 3"
    }
  },
  "cells": [
    {
      "cell_type": "markdown",
      "metadata": {
        "id": "view-in-github",
        "colab_type": "text"
      },
      "source": [
        "<a href=\"https://colab.research.google.com/github/Zuyyina79/Jobsheet-5-Daspro/blob/main/SET.ipynb\" target=\"_parent\"><img src=\"https://colab.research.google.com/assets/colab-badge.svg\" alt=\"Open In Colab\"/></a>"
      ]
    },
    {
      "cell_type": "code",
      "metadata": {
        "id": "ANYAr0k4NjNo",
        "outputId": "ce58fbcf-35db-4f86-9913-f2879834576e",
        "colab": {
          "base_uri": "https://localhost:8080/"
        }
      },
      "source": [
        "#Create Set\n",
        "\n",
        "foo = {\"Belajar\", \"Python\", \"di\", \"Duniailkom\"}\n",
        "bar = {100, 200, 300, 400}\n",
        "baz = {\"Python\", 200, 6.99, True}\n",
        "\n",
        "print(foo)\n",
        "print(bar)\n",
        "print(baz)"
      ],
      "execution_count": 1,
      "outputs": [
        {
          "output_type": "stream",
          "text": [
            "{'Belajar', 'Duniailkom', 'Python', 'di'}\n",
            "{200, 100, 400, 300}\n",
            "{200, True, 'Python', 6.99}\n"
          ],
          "name": "stdout"
        }
      ]
    },
    {
      "cell_type": "code",
      "metadata": {
        "id": "bAYjn7jMN-dn",
        "outputId": "61ef4446-2525-4eb7-c5ed-373731d30a2d",
        "colab": {
          "base_uri": "https://localhost:8080/"
        }
      },
      "source": [
        "#Create Set\n",
        "\n",
        "foo = [\"Belajar\", \"Python\", \"di\", \"Duniailkom\"]\n",
        "print(type(foo))\n",
        "\n",
        "foo = (\"Belajar\", \"Python\", \"di\", \"Duniailkom\")\n",
        "print(type(foo))\n",
        "\n",
        "foo = {\"Belajar\", \"Python\", \"di\", \"Duniailkom\"}\n",
        "print(type(foo))"
      ],
      "execution_count": 2,
      "outputs": [
        {
          "output_type": "stream",
          "text": [
            "<class 'list'>\n",
            "<class 'tuple'>\n",
            "<class 'set'>\n"
          ],
          "name": "stdout"
        }
      ]
    },
    {
      "cell_type": "code",
      "metadata": {
        "id": "KM8vjUdfOZdj"
      },
      "source": [
        "#Data set type properties\n",
        "\n",
        "foo = {\"Belajar\", \"Python\", \"di\", \"Duniailkom\", \"di\"}\n",
        "bar = {100, 200, 300, 400, 200, 300}\n",
        "\n",
        "print(foo)\n",
        "print(bar)"
      ],
      "execution_count": null,
      "outputs": []
    },
    {
      "cell_type": "code",
      "metadata": {
        "id": "kH_w_OG5PE71"
      },
      "source": [
        "#Access set members using index\n",
        "\n",
        "foo = {\"Belajar\", \"Python\", \"di\", \"Duniailkom\", \"di\"}\n",
        "\n",
        "print(foo[1])"
      ],
      "execution_count": null,
      "outputs": []
    },
    {
      "cell_type": "code",
      "metadata": {
        "id": "M4RifufBPnUd",
        "outputId": "c3b365da-73b3-46d6-d60c-61c4b4465131",
        "colab": {
          "base_uri": "https://localhost:8080/"
        }
      },
      "source": [
        "#Set operation data set type\n",
        "\n",
        "foo = {1, 2, 3, 4, 5}\n",
        "bar = {3, 4, 5, 6, 7}\n",
        "\n",
        "print (foo | bar) #union\n",
        "print (foo & bar) #intersection"
      ],
      "execution_count": 8,
      "outputs": [
        {
          "output_type": "stream",
          "text": [
            "{1, 2, 3, 4, 5, 6, 7}\n",
            "{3, 4, 5}\n"
          ],
          "name": "stdout"
        }
      ]
    }
  ]
}