{
  "nbformat": 4,
  "nbformat_minor": 0,
  "metadata": {
    "colab": {
      "name": "DICTIONARY.ipynb",
      "provenance": [],
      "authorship_tag": "ABX9TyNemCXelCXiOyDix/X5LjI7",
      "include_colab_link": true
    },
    "kernelspec": {
      "name": "python3",
      "display_name": "Python 3"
    }
  },
  "cells": [
    {
      "cell_type": "markdown",
      "metadata": {
        "id": "view-in-github",
        "colab_type": "text"
      },
      "source": [
        "<a href=\"https://colab.research.google.com/github/Zuyyina79/Jobsheet-5-Daspro/blob/main/DICTIONARY.ipynb\" target=\"_parent\"><img src=\"https://colab.research.google.com/assets/colab-badge.svg\" alt=\"Open In Colab\"/></a>"
      ]
    },
    {
      "cell_type": "code",
      "metadata": {
        "id": "t-u9JKqVQNRz",
        "outputId": "058a2111-557c-4027-bbd7-829cf348df61",
        "colab": {
          "base_uri": "https://localhost:8080/"
        }
      },
      "source": [
        "#Create Dictionary\n",
        "\n",
        "foo = { 1:\"Belajar\", 2:\"Python\", 3:\"di Duniailkom\"}\n",
        "bar = { \"mengapa\": \"Belajar\", \"apa\": \"Python\", \"dimana\": \"di Duniailkom\"}\n",
        "baz = { 1:\"Belajar\", \"apa\": \"Python\", \"dimana\": \"di Duniailkom\"}\n",
        "\n",
        "print(type(foo))\n",
        "print(type(bar))\n",
        "print(type(baz))\n",
        "\n",
        "print(foo)\n",
        "print(bar)\n",
        "print(baz)"
      ],
      "execution_count": null,
      "outputs": [
        {
          "output_type": "stream",
          "text": [
            "<class 'dict'>\n",
            "<class 'dict'>\n",
            "<class 'dict'>\n",
            "{1: 'Belajar', 2: 'Python', 3: 'di Duniailkom'}\n",
            "{'mengapa': 'Belajar', 'apa': 'Python', 'dimana': 'di Duniailkom'}\n",
            "{1: 'Belajar', 'apa': 'Python', 'dimana': 'di Duniailkom'}\n"
          ],
          "name": "stdout"
        }
      ]
    },
    {
      "cell_type": "code",
      "metadata": {
        "id": "uhZj7GFcRcQZ",
        "outputId": "313a6bdb-43fe-406a-bf7b-a2394c034650",
        "colab": {
          "base_uri": "https://localhost:8080/"
        }
      },
      "source": [
        "#Create Dictionary\n",
        "\n",
        "foo = { 1: \"Belajar\",\n",
        "       2: [\"Pascal\", \"C\", \"Python\"],\n",
        "       \"website\": \"Duniailkom\",\n",
        "       \"menyerah\": False,\n",
        "       \"target\": 2020,\n",
        "       \"riwayat_sekolah\": {\n",
        "           \"SD\": \"SDN Bendan Ngisor\",\n",
        "           \"SMP\": \"SMPN 2\",\n",
        "           \"SMA\": \"SMAN 5\"}\n",
        "       }\n",
        "print(foo)"
      ],
      "execution_count": null,
      "outputs": [
        {
          "output_type": "stream",
          "text": [
            "{1: 'Belajar', 2: ['Pascal', 'C', 'Python'], 'website': 'Duniailkom', 'menyerah': False, 'target': 2020, 'riwayat_sekolah': {'SD': 'SDN Bendan Ngisor', 'SMP': 'SMPN 2', 'SMA': 'SMAN 5'}}\n"
          ],
          "name": "stdout"
        }
      ]
    },
    {
      "cell_type": "code",
      "metadata": {
        "id": "9nm5sPFZSKqh",
        "outputId": "bcb0a2fa-e8e4-4ad1-833a-2dc8053b8ef2",
        "colab": {
          "base_uri": "https://localhost:8080/"
        }
      },
      "source": [
        "#Access dictionary elements\n",
        "\n",
        "foo = {\"kegiatan\": \"Belajar Python\",\n",
        "       \"website\": \"Duniailkom\",\n",
        "       \"hasil\": \"Yakin bisa!\"}\n",
        "\n",
        "print(foo[\"website\"])"
      ],
      "execution_count": null,
      "outputs": [
        {
          "output_type": "stream",
          "text": [
            "Duniailkom\n"
          ],
          "name": "stdout"
        }
      ]
    },
    {
      "cell_type": "code",
      "metadata": {
        "id": "Ws6S7YwASrU1",
        "outputId": "94c14e03-5af3-4461-bcf1-18c388e59ce5",
        "colab": {
          "base_uri": "https://localhost:8080/"
        }
      },
      "source": [
        "#Change dictionary elements\n",
        "\n",
        "foo = {\"kegiatan\": \"Belajar Python\",\n",
        "       \"website\": \"Duniailkom\",\n",
        "       \"hasil\": \"Yakin bisa!\"}\n",
        "\n",
        "foo[\"kegiatan\"] = \"Belajar Bahasa Pemrograman\"\n",
        "print(foo)"
      ],
      "execution_count": null,
      "outputs": [
        {
          "output_type": "stream",
          "text": [
            "{'kegiatan': 'Belajar Bahasa Pemrograman', 'website': 'Duniailkom', 'hasil': 'Yakin bisa!'}\n"
          ],
          "name": "stdout"
        }
      ]
    },
    {
      "cell_type": "code",
      "metadata": {
        "id": "e5cdDBnYTNqt",
        "outputId": "19e78fa2-b46f-4fa4-b3cc-89a24b1a303f",
        "colab": {
          "base_uri": "https://localhost:8080/"
        }
      },
      "source": [
        "#Added dictionary elements\n",
        "\n",
        "foo = {\"kegiatan\": \"Belajar Python\",\n",
        "       \"website\": \"Duniailkom\",\n",
        "       \"hasil\": \"Yakin bisa!\"}\n",
        "\n",
        "foo[\"target\"] =  2020\n",
        "print(foo)"
      ],
      "execution_count": null,
      "outputs": [
        {
          "output_type": "stream",
          "text": [
            "{'kegiatan': 'Belajar Python', 'website': 'Duniailkom', 'hasil': 'Yakin bisa!', 'target': 2020}\n"
          ],
          "name": "stdout"
        }
      ]
    },
    {
      "cell_type": "code",
      "metadata": {
        "id": "6CQsTAKgTiF1",
        "outputId": "b2e2cbdc-5230-484a-cfb1-3e201f91eecf",
        "colab": {
          "base_uri": "https://localhost:8080/"
        }
      },
      "source": [
        "#Remove dictionary elemets\n",
        "\n",
        "foo = {\"kegiatan\": \"Belajar Python\",\n",
        "       \"website\": \"Duniailkom\",\n",
        "       \"hasil\": \"Yakin bisa!\"}\n",
        "\n",
        "del foo[\"kegiatan\"]\n",
        "print(foo)"
      ],
      "execution_count": null,
      "outputs": [
        {
          "output_type": "stream",
          "text": [
            "{'website': 'Duniailkom', 'hasil': 'Yakin bisa!'}\n"
          ],
          "name": "stdout"
        }
      ]
    },
    {
      "cell_type": "code",
      "metadata": {
        "id": "Sq21rb_vT2z1",
        "outputId": "7e7604d0-eb94-409c-a19a-e9ce311f157b",
        "colab": {
          "base_uri": "https://localhost:8080/"
        }
      },
      "source": [
        "#Create dictionary with constructur\n",
        "\n",
        "foo = dict (kegiatan = \"Belajar Python\",\n",
        "           website = \"Duniailkom\",\n",
        "           hasil = \"Yakin bisa!\")\n",
        "\n",
        "print(foo)"
      ],
      "execution_count": null,
      "outputs": [
        {
          "output_type": "stream",
          "text": [
            "{'kegiatan': 'Belajar Python', 'website': 'Duniailkom', 'hasil': 'Yakin bisa!'}\n"
          ],
          "name": "stdout"
        }
      ]
    }
  ]
}