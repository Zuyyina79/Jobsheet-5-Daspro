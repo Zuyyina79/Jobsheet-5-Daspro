{
  "nbformat": 4,
  "nbformat_minor": 0,
  "metadata": {
    "colab": {
      "name": "TUPLE.ipynb",
      "provenance": [],
      "authorship_tag": "ABX9TyPKWUjkbbSmF+Cssy0gIDd9",
      "include_colab_link": true
    },
    "kernelspec": {
      "name": "python3",
      "display_name": "Python 3"
    }
  },
  "cells": [
    {
      "cell_type": "markdown",
      "metadata": {
        "id": "view-in-github",
        "colab_type": "text"
      },
      "source": [
        "<a href=\"https://colab.research.google.com/github/Zuyyina79/Jobsheet-5-Daspro/blob/main/TUPLE.ipynb\" target=\"_parent\"><img src=\"https://colab.research.google.com/assets/colab-badge.svg\" alt=\"Open In Colab\"/></a>"
      ]
    },
    {
      "cell_type": "code",
      "metadata": {
        "id": "t0y_NwCEx757",
        "outputId": "3304a5df-a823-4732-953a-15b56a1726bf",
        "colab": {
          "base_uri": "https://localhost:8080/"
        }
      },
      "source": [
        "#Create Tuple\n",
        "\n",
        "foo = [\"Belajar\", \"Python\", \"di\", \"Duniailkom\"]\n",
        "print(type(foo))\n",
        "foo = (\"Belajar\", \"Python\", \"di\", \"Duniailkom\")\n",
        "print(type(foo))"
      ],
      "execution_count": 1,
      "outputs": [
        {
          "output_type": "stream",
          "text": [
            "<class 'list'>\n",
            "<class 'tuple'>\n"
          ],
          "name": "stdout"
        }
      ]
    },
    {
      "cell_type": "code",
      "metadata": {
        "id": "H1PIr4fBK-NZ",
        "outputId": "b064cd8c-8af5-4c9f-ae20-74dde027675f",
        "colab": {
          "base_uri": "https://localhost:8080/"
        }
      },
      "source": [
        "#Tuple Access\n",
        "\n",
        "foo = (\"Python\", 200, 6.99, True, 'Duniailkom', 99j)\n",
        "\n",
        "print(foo[0])\n",
        "print(foo[1])\n",
        "print(foo[2])\n",
        "print(foo[2:5])\n",
        "print(foo[:3])\n",
        "print(foo[3:])\n",
        "print(foo[:])"
      ],
      "execution_count": 2,
      "outputs": [
        {
          "output_type": "stream",
          "text": [
            "Python\n",
            "200\n",
            "6.99\n",
            "(6.99, True, 'Duniailkom')\n",
            "('Python', 200, 6.99)\n",
            "(True, 'Duniailkom', 99j)\n",
            "('Python', 200, 6.99, True, 'Duniailkom', 99j)\n"
          ],
          "name": "stdout"
        }
      ]
    },
    {
      "cell_type": "code",
      "metadata": {
        "id": "T-chG0WwLW8-"
      },
      "source": [
        "#Change the tuple value\n",
        "\n",
        "foo = (\"Python\", 200, 6.99, True, 'Duniailkom', 99j)\n",
        "foo[0] = 'Belajar'\n",
        "print(foo)"
      ],
      "execution_count": null,
      "outputs": []
    }
  ]
}