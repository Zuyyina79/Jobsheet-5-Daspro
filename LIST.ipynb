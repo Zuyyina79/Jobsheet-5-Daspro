{
  "nbformat": 4,
  "nbformat_minor": 0,
  "metadata": {
    "colab": {
      "name": "LIST.ipynb",
      "provenance": [],
      "authorship_tag": "ABX9TyN7BpHoKPsVM5bHZXK3KwIr",
      "include_colab_link": true
    },
    "kernelspec": {
      "name": "python3",
      "display_name": "Python 3"
    }
  },
  "cells": [
    {
      "cell_type": "markdown",
      "metadata": {
        "id": "view-in-github",
        "colab_type": "text"
      },
      "source": [
        "<a href=\"https://colab.research.google.com/github/Zuyyina79/Jobsheet-5-Daspro/blob/main/LIST.ipynb\" target=\"_parent\"><img src=\"https://colab.research.google.com/assets/colab-badge.svg\" alt=\"Open In Colab\"/></a>"
      ]
    },
    {
      "cell_type": "code",
      "metadata": {
        "id": "bo54iVI7vT6V",
        "outputId": "1d4feefc-037c-472a-b4be-ccb8fb795fc4",
        "colab": {
          "base_uri": "https://localhost:8080/"
        }
      },
      "source": [
        "#Create list\n",
        "\n",
        "foo = [\"Belajar\", \"Python\", \"di\", \"Duniailkom\"]\n",
        "bar = [100, 200, 300, 400]\n",
        "baz = [\"Python\", 200, 6.99, True]\n",
        "\n",
        "print(type(foo))\n",
        "print(type(bar))\n",
        "print(type(baz))"
      ],
      "execution_count": 1,
      "outputs": [
        {
          "output_type": "stream",
          "text": [
            "<class 'list'>\n",
            "<class 'list'>\n",
            "<class 'list'>\n"
          ],
          "name": "stdout"
        }
      ]
    },
    {
      "cell_type": "code",
      "metadata": {
        "id": "OEvrvEOWv161",
        "outputId": "8f97353b-cf87-458a-c745-537c7515defc",
        "colab": {
          "base_uri": "https://localhost:8080/"
        }
      },
      "source": [
        "#List access\n",
        "\n",
        "foo = [\"Python\", 200, 6.99, True, 'Duniailkom', 99j]\n",
        "\n",
        "print(foo[0])\n",
        "print(foo[1])\n",
        "print(foo[2])\n",
        "print(foo[3])\n",
        "print(foo[4])\n",
        "print(foo[5])"
      ],
      "execution_count": 2,
      "outputs": [
        {
          "output_type": "stream",
          "text": [
            "Python\n",
            "200\n",
            "6.99\n",
            "True\n",
            "Duniailkom\n",
            "99j\n"
          ],
          "name": "stdout"
        }
      ]
    },
    {
      "cell_type": "code",
      "metadata": {
        "id": "BJjIFZW4wi3o",
        "outputId": "7e0bd32c-b411-41eb-e063-30e171e10e17",
        "colab": {
          "base_uri": "https://localhost:8080/"
        }
      },
      "source": [
        "#Change list\n",
        "\n",
        "foo = [\"Python\", 200, 6.99, True, 'Duniailkom', 99j]\n",
        "print(foo)\n",
        "\n",
        "foo[0] = 'Belajar'\n",
        "foo[3] = False\n",
        "print(foo)"
      ],
      "execution_count": 3,
      "outputs": [
        {
          "output_type": "stream",
          "text": [
            "['Python', 200, 6.99, True, 'Duniailkom', 99j]\n",
            "['Belajar', 200, 6.99, False, 'Duniailkom', 99j]\n"
          ],
          "name": "stdout"
        }
      ]
    },
    {
      "cell_type": "code",
      "metadata": {
        "id": "HIkeyxggw6F3",
        "outputId": "c3bc137a-4f4c-4dd8-b505-2412b01882ba",
        "colab": {
          "base_uri": "https://localhost:8080/"
        }
      },
      "source": [
        "#Displays a partial list\n",
        "\n",
        "foo = [\"Python\", 200, 6.99, True, 'Duniailkom', 99j]\n",
        "print(foo[2:5])\n",
        "print(foo[:3])\n",
        "print(foo[3:])\n",
        "print(foo[:])"
      ],
      "execution_count": 4,
      "outputs": [
        {
          "output_type": "stream",
          "text": [
            "[6.99, True, 'Duniailkom']\n",
            "['Python', 200, 6.99]\n",
            "[True, 'Duniailkom', 99j]\n",
            "['Python', 200, 6.99, True, 'Duniailkom', 99j]\n"
          ],
          "name": "stdout"
        }
      ]
    }
  ]
}