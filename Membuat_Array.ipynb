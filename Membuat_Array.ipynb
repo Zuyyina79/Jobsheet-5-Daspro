{
  "nbformat": 4,
  "nbformat_minor": 0,
  "metadata": {
    "colab": {
      "name": "Membuat Array.ipynb",
      "provenance": [],
      "collapsed_sections": [],
      "authorship_tag": "ABX9TyOUbfkQ8KS44kg6z8FdRKq+",
      "include_colab_link": true
    },
    "kernelspec": {
      "name": "python3",
      "display_name": "Python 3"
    }
  },
  "cells": [
    {
      "cell_type": "markdown",
      "metadata": {
        "id": "view-in-github",
        "colab_type": "text"
      },
      "source": [
        "<a href=\"https://colab.research.google.com/github/Zuyyina79/Jobsheet-5-Daspro/blob/main/Membuat_Array.ipynb\" target=\"_parent\"><img src=\"https://colab.research.google.com/assets/colab-badge.svg\" alt=\"Open In Colab\"/></a>"
      ]
    },
    {
      "cell_type": "code",
      "metadata": {
        "id": "xo-ce_MWhike",
        "outputId": "5104cb45-dbd2-4f8b-c660-81e26e7c10ab",
        "colab": {
          "base_uri": "https://localhost:8080/"
        }
      },
      "source": [
        "#Creation of Array\n",
        "\n",
        "#importing \"array\" for array creations\n",
        "import array as arr\n",
        "\n",
        "#creating an array with integer type\n",
        "a = arr.array('i', [1, 2, 3])\n",
        "\n",
        "#printing original array\n",
        "print(\"The new created array is : \", end=\" \")\n",
        "for i in range (0,3):\n",
        "  print(a[i], end=\" \")\n",
        "print()\n",
        "\n",
        "#creating an array with float type\n",
        "b = arr.array('d', [2.5, 3.2, 3.3])\n",
        "\n",
        "#printing original array\n",
        "print(\"The new created array is : \", end=\" \")\n",
        "for i in range (0,3):\n",
        "  print(b[i], end=\" \")"
      ],
      "execution_count": 2,
      "outputs": [
        {
          "output_type": "stream",
          "text": [
            "The new created array is :  1 2 3 \n",
            "The new created array is :  2.5 3.2 3.3 "
          ],
          "name": "stdout"
        }
      ]
    }
  ]
}