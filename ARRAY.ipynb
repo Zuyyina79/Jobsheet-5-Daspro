{
  "nbformat": 4,
  "nbformat_minor": 0,
  "metadata": {
    "colab": {
      "name": "Array.ipynb",
      "provenance": [],
      "authorship_tag": "ABX9TyMr/BXUZAPDZPrqvuhXIn2m",
      "include_colab_link": true
    },
    "kernelspec": {
      "name": "python3",
      "display_name": "Python 3"
    }
  },
  "cells": [
    {
      "cell_type": "markdown",
      "metadata": {
        "id": "view-in-github",
        "colab_type": "text"
      },
      "source": [
        "<a href=\"https://colab.research.google.com/github/Zuyyina79/Jobsheet-5-Daspro/blob/main/ARRAY.ipynb\" target=\"_parent\"><img src=\"https://colab.research.google.com/assets/colab-badge.svg\" alt=\"Open In Colab\"/></a>"
      ]
    },
    {
      "cell_type": "code",
      "metadata": {
        "id": "xo-ce_MWhike",
        "outputId": "5104cb45-dbd2-4f8b-c660-81e26e7c10ab",
        "colab": {
          "base_uri": "https://localhost:8080/"
        }
      },
      "source": [
        "#Creation of Array\n",
        "\n",
        "#importing \"array\" for array creations\n",
        "import array as arr\n",
        "\n",
        "#creating an array with integer type\n",
        "a = arr.array('i', [1, 2, 3])\n",
        "\n",
        "#printing original array\n",
        "print(\"The new created array is : \", end=\" \")\n",
        "for i in range (0,3):\n",
        "  print(a[i], end=\" \")\n",
        "print()\n",
        "\n",
        "#creating an array with float type\n",
        "b = arr.array('d', [2.5, 3.2, 3.3])\n",
        "\n",
        "#printing original array\n",
        "print(\"The new created array is : \", end=\" \")\n",
        "for i in range (0,3):\n",
        "  print(b[i], end=\" \")"
      ],
      "execution_count": null,
      "outputs": [
        {
          "output_type": "stream",
          "text": [
            "The new created array is :  1 2 3 \n",
            "The new created array is :  2.5 3.2 3.3 "
          ],
          "name": "stdout"
        }
      ]
    },
    {
      "cell_type": "code",
      "metadata": {
        "id": "Fth2YFG2pmBH",
        "outputId": "728fa45b-0330-4210-ba78-2c5d9b7468ae",
        "colab": {
          "base_uri": "https://localhost:8080/"
        }
      },
      "source": [
        "#Adding Elements to a Array\n",
        "\n",
        "#importing \"array\" for array creations\n",
        "import array as arr\n",
        "\n",
        "#array with in type\n",
        "a = arr.array('i', [1, 2, 3])\n",
        "\n",
        "print(\"Array before onsertion : \", end=\" \")\n",
        "for i in range (0,3):\n",
        "  print(a[i], end=\" \")\n",
        "print()\n",
        "\n",
        "#inserting array using\n",
        "#insert function\n",
        "a.insert(1, 4)\n",
        "\n",
        "print(\"Array after insertion : \", end=\" \")\n",
        "for i in (a):\n",
        "  print(i, end=\" \")\n",
        "print()\n",
        "\n",
        "#array with float type\n",
        "b = arr.array('d', [2.5, 3.2, 3.3])\n",
        "\n",
        "print(\"Array before insertion : \", end=\" \" )\n",
        "for i in range (0,3):\n",
        "  print(b[i], end=\" \")\n",
        "print()\n",
        "\n",
        "#adding an element using append()\n",
        "b.append(4.4)\n",
        "\n",
        "print(\"Array after insection : \", end=\" \")\n",
        "for i in (b):\n",
        "  print(i, end=\" \")\n",
        "print()"
      ],
      "execution_count": 1,
      "outputs": [
        {
          "output_type": "stream",
          "text": [
            "Array before onsertion :  1 2 3 \n",
            "Array after insertion :  1 4 2 3 \n",
            "Array before insertion :  2.5 3.2 3.3 \n",
            "Array after insection :  2.5 3.2 3.3 4.4 \n"
          ],
          "name": "stdout"
        }
      ]
    },
    {
      "cell_type": "code",
      "metadata": {
        "id": "1fw6zx2yrKae",
        "outputId": "0af16dc3-57b8-424a-c887-cf3ec9f4b9b5",
        "colab": {
          "base_uri": "https://localhost:8080/"
        }
      },
      "source": [
        "#Accessing of element from ist\n",
        "\n",
        "#importing array module\n",
        "import array as arr\n",
        "\n",
        "#array with in type\n",
        "a = arr.array('i', [1, 2, 3, 4, 5, 6])\n",
        "\n",
        "#Accessing element of array\n",
        "print(\"Access element is: \", a[0])\n",
        "\n",
        "#Accessing element of array\n",
        "print(\"Access element is: \", a[3])\n",
        "\n",
        "#array with float type\n",
        "b = arr.array('d', [2.5, 3.2, 3.3])\n",
        "\n",
        "#Accessing element of array\n",
        "print(\"Access element is: \", b[1])\n",
        "\n",
        "#Accessing element of array\n",
        "print(\"Access element is: \", b[2])"
      ],
      "execution_count": 2,
      "outputs": [
        {
          "output_type": "stream",
          "text": [
            "Access element is:  1\n",
            "Access element is:  4\n",
            "Access element is:  3.2\n",
            "Access element is:  3.3\n"
          ],
          "name": "stdout"
        }
      ]
    },
    {
      "cell_type": "code",
      "metadata": {
        "id": "oRg-g5FDsE4t",
        "outputId": "aa5e7860-c55b-4530-ff1f-6cbdab49080b",
        "colab": {
          "base_uri": "https://localhost:8080/"
        }
      },
      "source": [
        "#Removal of element in a Array\n",
        "\n",
        "#importing \"array\" for array operations\n",
        "import array\n",
        "\n",
        "#initializing array with array values\n",
        "#initializes array with signed integers\n",
        "arr = array.array('i', [1, 2, 3, 1, 5])\n",
        "\n",
        "#printing original array\n",
        "print(\"The new created array is : \", end=\" \")\n",
        "for i in range (0,5):\n",
        "  print(arr[i], end=\" \")\n",
        "\n",
        "print(\"\\r\")\n",
        "\n",
        "#using pop() to remove element at 2nd position\n",
        "print(\"The popped element is : \", end=\" \")\n",
        "print(arr.pop(2))\n",
        "\n",
        "#printing array after popping\n",
        "print(\"The aarray after popping is : \", end=\" \")\n",
        "for i in range (0,4):\n",
        "  print(arr[i], end=\" \")\n",
        "\n",
        "print(\"\\r\")\n",
        "\n",
        "#using remove() to remove 1st occurence of 1 \n",
        "arr.remove(1)\n",
        "\n",
        "#printing array after removing\n",
        "print(\"The array removing is : \", end=\" \")\n",
        "for i in range (0,3):\n",
        "  print(arr[i], end=\" \")"
      ],
      "execution_count": 3,
      "outputs": [
        {
          "output_type": "stream",
          "text": [
            "The new created array is :  1 2 3 1 5 \r\n",
            "The popped element is :  3\n",
            "The aarray after popping is :  1 2 1 5 \r\n",
            "The array removing is :  2 1 5 "
          ],
          "name": "stdout"
        }
      ]
    },
    {
      "cell_type": "code",
      "metadata": {
        "id": "ecg25yQ0tcai",
        "outputId": "caacd8b4-0530-401f-dc8e-cc5064ec1374",
        "colab": {
          "base_uri": "https://localhost:8080/"
        }
      },
      "source": [
        "#Slicing of elements in a Array\n",
        "\n",
        "#importing array module\n",
        "import array as arr\n",
        "\n",
        "#creating a list\n",
        "l = [1, 2, 3, 4, 5, 6, 7, 8, 9, 10]\n",
        "\n",
        "a = arr.array('i', l)\n",
        "print(\"Initial Array: \")\n",
        "for i in (a):\n",
        "  print(i, end=\" \")\n",
        "\n",
        "#Print elements of a range\n",
        "#Using slice operation\n",
        "Sliced_array = a[3:8]\n",
        "print(\"\\nSlicing elements in a range 3-8: \")\n",
        "print(Sliced_array)\n",
        "\n",
        "#Print elements from a\n",
        "#pre-defined point to end\n",
        "Sliced_array = a[5:]\n",
        "print(\"\\nElements sliced from 5th\"\n",
        "      \"elemen t till the end\")\n",
        "print(Sliced_array)\n",
        "\n",
        "#Printing elements from\n",
        "#beginning til end\n",
        "Sliced_array = a[:]\n",
        "print(\"\\nPrinting all elements using slice operation: \")\n",
        "print(Sliced_array)"
      ],
      "execution_count": 5,
      "outputs": [
        {
          "output_type": "stream",
          "text": [
            "Initial Array: \n",
            "1 2 3 4 5 6 7 8 9 10 \n",
            "Slicing elements in a range 3-8: \n",
            "array('i', [4, 5, 6, 7, 8])\n",
            "\n",
            "Elements sliced from 5thelemen t till the end\n",
            "array('i', [6, 7, 8, 9, 10])\n",
            "\n",
            "Printing all elements using slice operation: \n",
            "array('i', [1, 2, 3, 4, 5, 6, 7, 8, 9, 10])\n"
          ],
          "name": "stdout"
        }
      ]
    },
    {
      "cell_type": "code",
      "metadata": {
        "id": "dvPaXFDsuJHW"
      },
      "source": [
        ""
      ],
      "execution_count": null,
      "outputs": []
    }
  ]
}